{
 "cells": [
  {
   "cell_type": "code",
   "execution_count": null,
   "id": "2a228da0-29a4-4e7e-bb2b-8676dd21c96d",
   "metadata": {},
   "outputs": [],
   "source": [
    "#TEST\\"
   ]
  }
 ],
 "metadata": {
  "kernelspec": {
   "display_name": "Python 3 (ipykernel)",
   "language": "python",
   "name": "python3"
  },
  "language_info": {
   "codemirror_mode": {
    "name": "ipython",
    "version": 3
   },
   "file_extension": ".py",
   "mimetype": "text/x-python",
   "name": "python",
   "nbconvert_exporter": "python",
   "pygments_lexer": "ipython3",
   "version": "3.11.7"
  }
 },
 "nbformat": 4,
 "nbformat_minor": 5
}
