{
 "cells": [
  {
   "cell_type": "code",
   "execution_count": null,
   "id": "152d267d-02b5-40da-9be2-12f014f452e3",
   "metadata": {},
   "outputs": [],
   "source": [
    "#535TEST"
   ]
  }
 ],
 "metadata": {
  "kernelspec": {
   "display_name": "pyVISA",
   "language": "python",
   "name": "pyvisa"
  },
  "language_info": {
   "codemirror_mode": {
    "name": "ipython",
    "version": 3
   },
   "file_extension": ".py",
   "mimetype": "text/x-python",
   "name": "python",
   "nbconvert_exporter": "python",
   "pygments_lexer": "ipython3",
   "version": "3.8.19"
  }
 },
 "nbformat": 4,
 "nbformat_minor": 5
}
