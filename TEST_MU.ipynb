{
 "cells": [
  {
   "cell_type": "code",
   "execution_count": null,
   "id": "11900308-c103-405b-95e4-5773f21e4382",
   "metadata": {},
   "outputs": [],
   "source": [
    "#TESTTTTT"
   ]
  }
 ],
 "metadata": {
  "kernelspec": {
   "display_name": "PyVISA",
   "language": "python",
   "name": "pyvisa"
  },
  "language_info": {
   "codemirror_mode": {
    "name": "ipython",
    "version": 3
   },
   "file_extension": ".py",
   "mimetype": "text/x-python",
   "name": "python",
   "nbconvert_exporter": "python",
   "pygments_lexer": "ipython3",
   "version": "3.8.19"
  }
 },
 "nbformat": 4,
 "nbformat_minor": 5
}
