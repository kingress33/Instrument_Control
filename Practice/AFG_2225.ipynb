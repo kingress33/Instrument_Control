{
 "cells": [
  {
   "cell_type": "code",
   "execution_count": 36,
   "id": "50ae1d27-cca3-40d3-a793-383061a65050",
   "metadata": {},
   "outputs": [],
   "source": [
    "# 引入需要的包裝\n",
    "\n",
    "import pyvisa\n",
    "import time"
   ]
  },
  {
   "cell_type": "code",
   "execution_count": 43,
   "id": "6dac4d1d-c526-44e5-9f1c-4df7c1c481ee",
   "metadata": {},
   "outputs": [],
   "source": [
    "class AFG_2225():\n",
    "    def __init__(self, resource_address, visa_dll=None):\n",
    "        \"\"\"\n",
    "        初始化儀器控制器。\n",
    "        :param resource_address: 儀器的資源地址。\n",
    "        :param visa_dll: 使用的 VISA DLL 路徑。如果為 None，則使用系統預設空白。\n",
    "        \"\"\"\n",
    "        self.resource_address = resource_address\n",
    "        self.visa_dll = visa_dll if visa_dll is not None else ''\n",
    "        self.rm = pyvisa.ResourceManager(self.visa_dll)\n",
    "        self.instrument = None\n",
    "\n",
    "    def connect_to_instrument(self):\n",
    "        # 建立與儀器的連接\n",
    "        self.instrument = self.rm.open_resource(self.resource_address)\n",
    "        print(\"Connected to instrument.\")\n",
    "\n",
    "    def query_identity(self):\n",
    "        # 查詢並返回儀器的身份識別信息\n",
    "        if self.instrument:\n",
    "            return self.instrument.query(\"*IDN?\")\n",
    "        else:\n",
    "            raise Exception(\"Instrument not connected. Please connect first.\")\n",
    "\n",
    "    def set_waveform(self, waveform_type):\n",
    "        # 設置波形類型\n",
    "        if self.instrument:\n",
    "            self.instrument.write(f'SOUR1:FUNC {waveform_type}')\n",
    "            time.sleep(0.05)  # 在命令之間暫停0.5秒\n",
    "            print(f\"Waveform set to {waveform_type}.\")\n",
    "        else:\n",
    "            raise Exception(\"Instrument not connected. Please connect first.\")\n",
    "\n",
    "    def set_frequency(self, frequency_hz):\n",
    "        # 設置波形的頻率\n",
    "        if self.instrument:\n",
    "            self.instrument.write(f'SOUR1:FREQ {frequency_hz}')\n",
    "            time.sleep(0.05)  # 在命令之間暫停0.5秒\n",
    "            print(f\"Frequency set to {frequency_hz} Hz.\")\n",
    "        else:\n",
    "            raise Exception(\"Instrument not connected. Please connect first.\")\n"
   ]
  },
  {
   "cell_type": "code",
   "execution_count": 46,
   "id": "d92f3e3f-d723-46b9-9c18-20877ce0cd86",
   "metadata": {},
   "outputs": [
    {
     "name": "stdout",
     "output_type": "stream",
     "text": [
      "Connected to instrument.\n",
      "GW INSTEK,AFG-2225,SN:GEX881881,V3.01\n",
      "\n"
     ]
    }
   ],
   "source": [
    "instrument_address = 'ASRL5::INSTR'\n",
    "AFG_2225_SET = AFG_2225(instrument_address)\n",
    "AFG_2225_SET.connect_to_instrument()\n",
    "print(AFG_2225_SET.query_identity())"
   ]
  },
  {
   "cell_type": "code",
   "execution_count": 45,
   "id": "02d7be16-f3b1-4484-8dab-1203845c5c33",
   "metadata": {},
   "outputs": [
    {
     "name": "stdout",
     "output_type": "stream",
     "text": [
      "Waveform set to SIN.\n",
      "Frequency set to 2000000 Hz.\n"
     ]
    }
   ],
   "source": [
    "# 設置波形為正弦波\n",
    "AFG_2225_SET.set_waveform('SIN')\n",
    "\n",
    "# 設置波形頻率為1000 Hz\n",
    "AFG_2225_SET.set_frequency('2000000')"
   ]
  }
 ],
 "metadata": {
  "kernelspec": {
   "display_name": "pyVISA",
   "language": "python",
   "name": "pyvisa"
  },
  "language_info": {
   "codemirror_mode": {
    "name": "ipython",
    "version": 3
   },
   "file_extension": ".py",
   "mimetype": "text/x-python",
   "name": "python",
   "nbconvert_exporter": "python",
   "pygments_lexer": "ipython3",
   "version": "3.8.19"
  }
 },
 "nbformat": 4,
 "nbformat_minor": 5
}
