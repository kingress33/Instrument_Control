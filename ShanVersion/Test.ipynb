{
 "cells": [
  {
   "cell_type": "code",
   "execution_count": null,
   "id": "0f9cad57-b832-404e-bd27-2b55a942e90b",
   "metadata": {},
   "outputs": [],
   "source": [
    "#Just Test"
   ]
  }
 ],
 "metadata": {
  "kernelspec": {
   "display_name": "pyVISA",
   "language": "python",
   "name": "pyvisa"
  },
  "language_info": {
   "codemirror_mode": {
    "name": "ipython",
    "version": 3
   },
   "file_extension": ".py",
   "mimetype": "text/x-python",
   "name": "python",
   "nbconvert_exporter": "python",
   "pygments_lexer": "ipython3",
   "version": "3.8.19"
  }
 },
 "nbformat": 4,
 "nbformat_minor": 5
}
