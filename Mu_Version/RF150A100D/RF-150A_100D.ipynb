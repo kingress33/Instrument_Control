{
 "cells": [
  {
   "cell_type": "code",
   "execution_count": 1,
   "id": "e7a0d557-2a27-4212-8209-4480691a7b98",
   "metadata": {},
   "outputs": [],
   "source": [
    "#引入需要的包裝\n",
    "\n",
    "import pyvisa\n",
    "import time\n",
    "import math"
   ]
  },
  {
   "cell_type": "markdown",
   "id": "ef8e34e4-4889-4f63-bdc5-41ddb20f47cf",
   "metadata": {},
   "source": [
    "### RF-150A_100D\n",
    "\n",
    "===============Function List=================\n",
    "\n",
    "* Set power state\n",
    "* Set gain magnitude\n",
    "\n",
    "控制前要將撥動開關往上撥到REMOTE，儀器才會接收指令"
   ]
  },
  {
   "cell_type": "code",
   "execution_count": 2,
   "id": "977c4611-3e8a-43ff-9adf-24cf98eb4fcc",
   "metadata": {},
   "outputs": [],
   "source": [
    "class RF_150A100D():\n",
    "    def __init__(self, resource_address, visa_dll=None):\n",
    "        \"\"\"\n",
    "        初始化儀器控制器。\n",
    "        :param resource_address: 儀器的資源地址。\n",
    "        :param visa_dll: 使用的 VISA DLL 路徑。如果為 None，則使用系統預設空白。\n",
    "        \"\"\"\n",
    "        self.resource_address = resource_address\n",
    "        self.visa_dll = visa_dll if visa_dll is not None else ''\n",
    "        self.rm = pyvisa.ResourceManager(self.visa_dll)\n",
    "        self.instrument = None\n",
    "        self.connect_to_instrument()\n",
    "        \n",
    "        \n",
    "    def connect_to_instrument(self):\n",
    "        # 建立與儀器的連接\n",
    "        self.instrument = self.rm.open_resource(self.resource_address)\n",
    "        print(\"Connected to instrument.\")\n",
    "        print(self.query_identity())\n",
    "\n",
    "    def query_identity(self):\n",
    "         # 查詢並返回儀器的身份識別信息\n",
    "        if self.instrument:\n",
    "             return self.instrument.query(\"*IDN?\")\n",
    "        else:\n",
    "             raise Exception(\"Instrument not connected. Please connect first.\")\n",
    "\n",
    "    def close_instrument(self):\n",
    "        if self.instrument:\n",
    "            self.instrument.close()\n",
    "            print(\"Instrument connection closed.\")\n",
    "        else:\n",
    "            print(\"No instrument to close.\")\n",
    "\n",
    "    def power_on(self):\n",
    "        if self.instrument:\n",
    "            self.instrument.write(f\"P1\")\n",
    "            print(f\"turn power on\")\n",
    "        else:\n",
    "            raise Exception(\"Instrument not connected. Please connect first.\")\n",
    "\n",
    "    def power_off(self):\n",
    "        if self.instrument:\n",
    "            self.instrument.write(f\"P0\")\n",
    "            print(f\"turn power off\")\n",
    "        else:\n",
    "            raise Exception(\"Instrument not connected. Please connect first.\")\n",
    "\n",
    "    def set_gain(self,gain ,gain_set):\n",
    "        if self.instrument:\n",
    "            self.instrument.write(f\"G{gain_set}\")\n",
    "            print(f\"set gain be G{gain}\")\n",
    "        else:\n",
    "            raise Exception(\"Instrument not connected. Please connect first.\")\n",
    "\n",
    "    def reset(self):\n",
    "        if self.instrument:\n",
    "            self.instrument.write(f\"R\")\n",
    "            print(f\"clear faults\")\n",
    "        else:\n",
    "            raise Exception(\"Instrument not connected. Please connect first.\")"
   ]
  },
  {
   "cell_type": "code",
   "execution_count": 3,
   "id": "d6955d7e-0567-48ca-86a0-139cbaa2277c",
   "metadata": {},
   "outputs": [],
   "source": [
    "def calculate_gain_set(gain):\n",
    "    \"\"\"\n",
    "    計算並返回設置增益的值\n",
    "    透過設定的gain去計算給儀器的gain_set該為多少\n",
    "    \"\"\"\n",
    "    ratio = 4095 / 100  # MAX和MIN的比例\n",
    "    gain_set = math.ceil(ratio * gain)  # 使用 math函數進行無條件進位\n",
    "    gain_set = min(gain_set, 4095)  # 限制 gain_set 最大值為 4095\n",
    "    gain_set = str(gain_set).zfill(4)  # 保持四個字元\n",
    "    print(ratio * gain)\n",
    "    return gain_set"
   ]
  },
  {
   "cell_type": "code",
   "execution_count": 4,
   "id": "10e956a6-0637-4e15-b637-6e331419298c",
   "metadata": {
    "scrolled": true
   },
   "outputs": [
    {
     "name": "stdout",
     "output_type": "stream",
     "text": [
      "Connected to instrument.\n",
      "AR-RF/MICROWAVE-INST,150A100D,1.0\n",
      "\n",
      "204.75\n",
      "set gain be G5\n",
      "turn power off\n",
      "done all things\n",
      "Instrument connection closed.\n"
     ]
    }
   ],
   "source": [
    "def main():\n",
    "    \n",
    "    # =========================Parmeters===============================\n",
    "    \"\"\"\n",
    "    Gain : 0~100\n",
    "    Power state : { ON | OFF }\n",
    "    \"\"\"\n",
    "    gain = 5\n",
    "    power_state = 'OFF'\n",
    "    \n",
    "    #====================Instrument Connect Test========================\n",
    "    rf_instrument_address = 'USB0::0x0547::0x1B58::0358752::INSTR'\n",
    "    rf = RF_150A100D(rf_instrument_address)\n",
    "     #若有其他儀器串接下去...\n",
    "\n",
    "    #============================Auto Test==============================\n",
    "    # TO DO:寫For迴圈自動測量的區域\n",
    "    \n",
    "    gain_set = calculate_gain_set(gain)  # 計算增益設置值\n",
    "    rf.set_gain(gain, gain_set)\n",
    "\n",
    "    if power_state == 'ON': #判斷書出狀態，選擇def\n",
    "        rf.power_on()\n",
    "    else:\n",
    "        rf.power_off()\n",
    "    \n",
    "    # ============================ Close Instrument======================\n",
    "    rf.close_instrument()\n",
    "    \n",
    "if __name__ == \"__main__\":\n",
    "    main()"
   ]
  },
  {
   "cell_type": "markdown",
   "id": "7c9fb745-03f3-46d6-b83e-5341e9e42b9c",
   "metadata": {},
   "source": []
  },
  {
   "cell_type": "code",
   "execution_count": null,
   "id": "e34afdc0-b65a-47bc-9cde-323ee069bcfa",
   "metadata": {},
   "outputs": [],
   "source": []
  },
  {
   "cell_type": "code",
   "execution_count": null,
   "id": "a26691e0-9d9d-4193-8faa-144087e15380",
   "metadata": {},
   "outputs": [],
   "source": []
  },
  {
   "cell_type": "code",
   "execution_count": null,
   "id": "c6585f1e-be4e-4bff-91d3-0c1963222f76",
   "metadata": {},
   "outputs": [],
   "source": []
  }
 ],
 "metadata": {
  "kernelspec": {
   "display_name": "PyVISA",
   "language": "python",
   "name": "pyvisa"
  },
  "language_info": {
   "codemirror_mode": {
    "name": "ipython",
    "version": 3
   },
   "file_extension": ".py",
   "mimetype": "text/x-python",
   "name": "python",
   "nbconvert_exporter": "python",
   "pygments_lexer": "ipython3",
   "version": "3.8.19"
  }
 },
 "nbformat": 4,
 "nbformat_minor": 5
}
