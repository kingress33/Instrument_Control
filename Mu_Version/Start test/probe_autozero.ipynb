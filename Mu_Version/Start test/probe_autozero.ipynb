{
 "cells": [
  {
   "cell_type": "markdown",
   "id": "151e0899-4e0a-4ff1-9c95-5e30dc19cd19",
   "metadata": {},
   "source": [
    "### Set Probes Auto Zero\n",
    "\n",
    "===============Instruments in need=================\n",
    "\n",
    "* MSO64B\n",
    "\n",
    "三支碳棒什麼都不要接，程式執行自動校正"
   ]
  },
  {
   "cell_type": "code",
   "execution_count": 1,
   "id": "bd60a8e5-420c-40da-a00e-4bb286f41512",
   "metadata": {},
   "outputs": [],
   "source": [
    "# 引入需要的包裝\n",
    "\n",
    "import pyvisa\n",
    "import time\n",
    "from MSO64B import MSO_64B"
   ]
  },
  {
   "cell_type": "markdown",
   "id": "ef8e34e4-4889-4f63-bdc5-41ddb20f47cf",
   "metadata": {},
   "source": [
    "### MSO64B\n",
    "\n",
    "===============Function List=================\n",
    "\n",
    "* Set channel\n",
    "* Set probe autozero\n",
    "* Set bandwidth limit\n",
    "* Set acquistion mode and average num\n"
   ]
  },
  {
   "cell_type": "code",
   "execution_count": 2,
   "id": "977c4611-3e8a-43ff-9adf-24cf98eb4fcc",
   "metadata": {
    "jupyter": {
     "source_hidden": true
    }
   },
   "outputs": [],
   "source": [
    "# class MSO_64B():\n",
    "#     def __init__(self, resource_address, visa_dll=None):\n",
    "#         \"\"\"\n",
    "#         初始化儀器控制器。\n",
    "#         :param resource_address: 儀器的資源地址。\n",
    "#         :param visa_dll: 使用的 VISA DLL 路徑。如果為 None，則使用系統預設空白。\n",
    "#         \"\"\"\n",
    "#         self.resource_address = resource_address\n",
    "#         self.visa_dll = visa_dll if visa_dll is not None else ''\n",
    "#         self.rm = pyvisa.ResourceManager(self.visa_dll)\n",
    "#         self.instrument = None\n",
    "#         self.connect_to_instrument()\n",
    "        \n",
    "#     def connect_to_instrument(self):\n",
    "#         # 建立與儀器的連接\n",
    "#         self.instrument = self.rm.open_resource(self.resource_address)\n",
    "#         print(\"Connected to MSO64B.\")\n",
    "#         print(self.query_identity())\n",
    "        \n",
    "#     def query_identity(self):\n",
    "#          # 查詢並返回儀器的身份識別信息\n",
    "#         if self.instrument:\n",
    "#              return self.instrument.query(\"*IDN?\")\n",
    "#         else:\n",
    "#              raise Exception(\"Instrument not connected. Please connect first.\")\n",
    "\n",
    "#     def close_instrument(self):\n",
    "#         if self.instrument:\n",
    "#             self.instrument.close()\n",
    "#             print(\"MSO64B connection closed.\")\n",
    "#         else:\n",
    "#             print(\"No instrument to close.\")\n",
    "\n",
    "#     def display_channel(self, channel):\n",
    "#         #將通道顯示在示波器畫面\n",
    "#         if self.instrument:\n",
    "#             self.instrument.write(f':DIS:WAVEVIEW1:{channel}:STATE ON') \n",
    "#             time.sleep(0.05)  # 在命令之間暫停0.5秒\n",
    "#             print(f\"display {channel}\")\n",
    "#         else:\n",
    "#             raise Exception(\"Instrument not connected. Please connect first.\")\n",
    "\n",
    "#     def set_acquistion(self, acquistion_num):\n",
    "#         #設定採樣模式及數量\n",
    "#         if self.instrument:\n",
    "#             self.instrument.write(f':ACQuire:MODe AVE;:ACQuire:NUMAVg {acquistion_num}')\n",
    "#             #設定Acquistion mode為average並波形獲取數量為128\n",
    "#             time.sleep(0.05)  # 在命令之間暫停0.5秒\n",
    "#             print(f\"set acquisition in average mode and waveform acquire number be {acquistion_num}\")\n",
    "#         else:\n",
    "#             raise Exception(\"Instrument not connected. Please connect first.\") \n",
    "\n",
    "#     def probe_autozero(self, channel):\n",
    "#         #將探棒Auto Zero調整波形位準\n",
    "#         if self.instrument:\n",
    "#             self.instrument.write(f':{channel}:PRObe:AUTOZero EXECute')\n",
    "#             time.sleep(0.05)  \n",
    "#             print(f\"set probe in {channel} Auto Zero\")\n",
    "#         else:\n",
    "#             raise Exception(\"Instrument not connected. Please connect first.\")\n",
    "\n",
    "#     def probe_correction(self, channel, limit):\n",
    "#         #設定探棒的頻寬限制\n",
    "#         if self.instrument:\n",
    "#             self.instrument.write(f':{channel}:BANdwidth {limit}')\n",
    "#             print(f\"set {channel} Bandwidth Limit be {limit}E+06\")\n",
    "#         else:\n",
    "#             raise Exception(\"Instrument not connected. Please connect first.\") "
   ]
  },
  {
   "cell_type": "code",
   "execution_count": 3,
   "id": "10e956a6-0637-4e15-b637-6e331419298c",
   "metadata": {
    "scrolled": true
   },
   "outputs": [
    {
     "name": "stdout",
     "output_type": "stream",
     "text": [
      "Connected to MSO64B.\n",
      "TEKTRONIX,MSO64B,C048992,CF:91.1CT FV:1.44.3.433\n",
      "\n",
      "display CH1\n",
      "display CH2\n",
      "display CH3\n",
      "set acquisition in average mode and waveform acquire number be 64\n",
      "set probe in CH1 Auto Zero\n",
      "set CH1 Bandwidth Limit be 1E+09E+06\n",
      "set probe in CH2 Auto Zero\n",
      "set CH2 Bandwidth Limit be 1E+09E+06\n",
      "set probe in CH3 Auto Zero\n",
      "set CH3 Bandwidth Limit be 1E+09E+06\n",
      "MSO64B connection closed.\n"
     ]
    }
   ],
   "source": [
    "def main():\n",
    "    \n",
    "    # =========================Parmeters===============================\n",
    "    \"\"\"\n",
    "    channel:{CH1 | CH2 | CH3 | CH4 }[page:2-541]\n",
    "    \"\"\"\n",
    "\n",
    "    #設置要顯示的通道\n",
    "    displays = [\n",
    "        {'channel': 'CH1'},\n",
    "        {'channel': 'CH2'},\n",
    "        {'channel': 'CH3'}        \n",
    "    ]\n",
    "    \n",
    "    #設定各channel最大頻寬\n",
    "    bandwidths = [          #unit:Hz\n",
    "        {'limit': '1E+09'}, #Bandwidth limit of channels\n",
    "    ]    \n",
    "\n",
    "    acquistion_num = 64\n",
    "    \n",
    "    #====================Instrument Connect Test===========================\n",
    "    #從NI MAX抓儀器的VISA Resource Name\n",
    "    MSO_instrument_address = 'USB0::0x0699::0x0530::C048992::INSTR' \n",
    "    mso = MSO_64B(MSO_instrument_address)\n",
    "     #若有其他儀器串接下去...\n",
    "\n",
    "    #============================Auto Test================================= \n",
    "    # TO DO: 這邊給你寫For迴圈自動測量的區域\n",
    "\n",
    "    for display in displays:\n",
    "        channel = display['channel']\n",
    "        mso.display_channel(channel)\n",
    "\n",
    "    mso.set_acquistion(acquistion_num)\n",
    "\n",
    "    for display in displays:\n",
    "        channel = display['channel']\n",
    "        mso.probe_autozero(channel)\n",
    "        # 設定最大頻寬\n",
    "        for bandwidth in bandwidths:\n",
    "            limit = bandwidth['limit']\n",
    "            mso.probe_correction(channel,limit)\n",
    "        time.sleep(3)\n",
    "        \n",
    "    # ============================ Close Instrument=================================\n",
    "    #關閉儀器\n",
    "    mso.close_instrument()\n",
    "    \n",
    "if __name__ == \"__main__\":\n",
    "    main()"
   ]
  },
  {
   "cell_type": "markdown",
   "id": "7c9fb745-03f3-46d6-b83e-5341e9e42b9c",
   "metadata": {},
   "source": []
  },
  {
   "cell_type": "code",
   "execution_count": null,
   "id": "48669123-a185-4755-8fff-507bdaf4df68",
   "metadata": {},
   "outputs": [],
   "source": []
  }
 ],
 "metadata": {
  "kernelspec": {
   "display_name": "PyVISA",
   "language": "python",
   "name": "pyvisa"
  },
  "language_info": {
   "codemirror_mode": {
    "name": "ipython",
    "version": 3
   },
   "file_extension": ".py",
   "mimetype": "text/x-python",
   "name": "python",
   "nbconvert_exporter": "python",
   "pygments_lexer": "ipython3",
   "version": "3.8.19"
  }
 },
 "nbformat": 4,
 "nbformat_minor": 5
}
