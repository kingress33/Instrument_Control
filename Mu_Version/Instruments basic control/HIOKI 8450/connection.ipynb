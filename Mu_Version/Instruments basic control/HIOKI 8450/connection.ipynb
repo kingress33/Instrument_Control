{
 "cells": [
  {
   "cell_type": "markdown",
   "id": "e3f148ce-dab5-4105-961c-28171cd919b9",
   "metadata": {},
   "source": [
    "### Instrument connection\n",
    "\n",
    "===============Instruments in need=================\n",
    "\n",
    "* HIOKI LR8450\n"
   ]
  },
  {
   "cell_type": "code",
   "execution_count": 1,
   "id": "3fce7bb2-83a0-432e-bb95-ce21ccba9d7f",
   "metadata": {},
   "outputs": [],
   "source": [
    "# 引入需要的包裝\n",
    "\n",
    "import pyvisa\n",
    "import time"
   ]
  },
  {
   "cell_type": "markdown",
   "id": "47b6d9d2-1911-4973-a285-50286b40a03a",
   "metadata": {},
   "source": [
    "### HIOKI8450\n",
    "\n",
    "===============Function List=================\n",
    "\n",
    "* "
   ]
  },
  {
   "cell_type": "code",
   "execution_count": 2,
   "id": "70bef687-486f-40a6-88b0-ee4ceaa30989",
   "metadata": {},
   "outputs": [],
   "source": [
    "class HIOKI_8450():\n",
    "    def __init__(self, resource_address, visa_dll=None):\n",
    "        \"\"\"\n",
    "        初始化儀器控制器。\n",
    "        :param resource_address: 儀器的資源地址。\n",
    "        :param visa_dll: 使用的 VISA DLL 路徑。如果為 None，則使用系統預設空白。\n",
    "        \"\"\"\n",
    "        self.resource_address = resource_address\n",
    "        self.visa_dll = visa_dll if visa_dll is not None else ''\n",
    "        self.rm = pyvisa.ResourceManager(self.visa_dll)\n",
    "        self.instrument = None\n",
    "        self.connect_to_instrument()\n",
    "        \n",
    "    def connect_to_instrument(self):\n",
    "        # 建立與儀器的連接\n",
    "        self.instrument = self.rm.open_resource(self.resource_address)\n",
    "        print(\"Connected to HIOKI8450.\")\n",
    "        print(self.query_identity())\n",
    "        \n",
    "    def query_identity(self):\n",
    "         # 查詢並返回儀器的身份識別信息\n",
    "        if self.instrument:\n",
    "             return self.instrument.query(\"*IDN?\")\n",
    "        else:\n",
    "             raise Exception(\"Instrument not connected. Please connect first.\")\n",
    "\n",
    "    def close_instrument(self):\n",
    "        if self.instrument:\n",
    "            self.instrument.close()\n",
    "            print(\"HIOKI8450 connection closed.\")\n",
    "        else:\n",
    "            print(\"No instrument to close.\")\n"
   ]
  },
  {
   "cell_type": "code",
   "execution_count": 3,
   "id": "9c302857-4713-48ad-afef-5389ff535a30",
   "metadata": {},
   "outputs": [
    {
     "name": "stdout",
     "output_type": "stream",
     "text": [
      "Connected to HIOKI8450.\n",
      "HIOKI,LR8450,220139566,V2.21\n",
      "\n",
      "HIOKI8450 connection closed.\n"
     ]
    }
   ],
   "source": [
    "def main():\n",
    "    \n",
    "    # =========================Parmeters===============================\n",
    "    \"\"\"\n",
    "    \n",
    "    \"\"\"\n",
    "    \n",
    "    #====================Instrument Connect Test===========================\n",
    "    #從NI MAX抓儀器的VISA Resource Name\n",
    "    HIOKI_instrument_address = 'ASRL3::INSTR' \n",
    "    hio = HIOKI_8450(HIOKI_instrument_address)\n",
    "    #若有其他儀器串接下去...\n",
    "\n",
    "    #============================Auto Test================================= \n",
    "    # TO DO: 這邊給你寫For迴圈自動測量的區域\n",
    "\n",
    "    \n",
    "        \n",
    "    # ============================ Close Instrument=================================\n",
    "    #關閉儀器\n",
    "    hio.close_instrument()\n",
    "    \n",
    "if __name__ == \"__main__\":\n",
    "    main()"
   ]
  },
  {
   "cell_type": "code",
   "execution_count": null,
   "id": "59a1854b-6331-44c6-89da-7e1fe0e6cd99",
   "metadata": {},
   "outputs": [],
   "source": []
  },
  {
   "cell_type": "code",
   "execution_count": null,
   "id": "ccc58830-1e6b-4d92-87a9-3a898e691c0d",
   "metadata": {},
   "outputs": [],
   "source": []
  }
 ],
 "metadata": {
  "kernelspec": {
   "display_name": "PyVISA",
   "language": "python",
   "name": "pyvisa"
  },
  "language_info": {
   "codemirror_mode": {
    "name": "ipython",
    "version": 3
   },
   "file_extension": ".py",
   "mimetype": "text/x-python",
   "name": "python",
   "nbconvert_exporter": "python",
   "pygments_lexer": "ipython3",
   "version": "3.8.19"
  }
 },
 "nbformat": 4,
 "nbformat_minor": 5
}
