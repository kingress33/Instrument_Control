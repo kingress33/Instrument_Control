{
 "cells": [
  {
   "cell_type": "code",
   "execution_count": null,
   "id": "83031ffa-3af4-468f-b6a7-bfbba6bbc597",
   "metadata": {},
   "outputs": [],
   "source": [
    "import pyvisa"
   ]
  },
  {
   "cell_type": "code",
   "execution_count": null,
   "id": "e3c9a7da-e43a-47b3-88ff-7a95d2cf6e0a",
   "metadata": {},
   "outputs": [],
   "source": [
    "rm = pyvisa.ResourceManager()"
   ]
  },
  {
   "cell_type": "code",
   "execution_count": null,
   "id": "4b219bf8-8b85-4498-9c5d-adfd0e7c4b3b",
   "metadata": {},
   "outputs": [],
   "source": [
    "rm.list_resources()"
   ]
  },
  {
   "cell_type": "code",
   "execution_count": null,
   "id": "af7ad8c9-1d29-4e10-9f9f-1179cd0ab0af",
   "metadata": {},
   "outputs": [],
   "source": [
    "inst = rm.open_resource('ASRL5::INSTR')"
   ]
  },
  {
   "cell_type": "code",
   "execution_count": null,
   "id": "c53628e1-2b53-488d-a790-6cd7c09c1faa",
   "metadata": {},
   "outputs": [],
   "source": [
    "print(inst.query(\"*IDN?\"))"
   ]
  },
  {
   "cell_type": "code",
   "execution_count": null,
   "id": "35e52356-0d4b-4e9e-8a5c-365143c619b1",
   "metadata": {},
   "outputs": [],
   "source": [
    "rm = pyvisa.ResourceManager()\n",
    "for line in rm.list_resources():\n",
    "    print(line)"
   ]
  },
  {
   "cell_type": "code",
   "execution_count": null,
   "id": "255c1ecf-6ae7-4986-aa61-67cf9752589c",
   "metadata": {},
   "outputs": [],
   "source": [
    "inst.write('SOUR1:FREQ MAX')"
   ]
  }
 ],
 "metadata": {
  "kernelspec": {
   "display_name": "pyVISA",
   "language": "python",
   "name": "pyvisa"
  },
  "language_info": {
   "codemirror_mode": {
    "name": "ipython",
    "version": 3
   },
   "file_extension": ".py",
   "mimetype": "text/x-python",
   "name": "python",
   "nbconvert_exporter": "python",
   "pygments_lexer": "ipython3",
   "version": "3.8.19"
  }
 },
 "nbformat": 4,
 "nbformat_minor": 5
}
